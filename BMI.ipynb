{
 "cells": [
  {
   "cell_type": "code",
   "execution_count": null,
   "metadata": {},
   "outputs": [],
   "source": [
    "weight = float(input(\"Please enter your Weight : \"))\n",
    "height = float(input(\"Please enter your Height : \"))\n",
    "\n",
    "height = height / 100\n",
    "bmi = weight / (height*height)\n",
    "\n",
    "if bmi < 18.5:\n",
    "    print(\"underweight\")\n",
    "\n",
    "elif bmi >= 18.5 and bmi <= 25:\n",
    "    print(\"normal\")\n",
    "\n",
    "elif bmi >= 25 and bmi < 30:\n",
    "    print(\"overweight\")\n",
    "\n",
    "elif bmi>= 30 and bmi < 35:\n",
    "    print(\"obese\")\n",
    "\n",
    "elif bmi>= 35:\n",
    "    print(\"extremely obese\")"
   ]
  }
 ],
 "metadata": {
  "kernelspec": {
   "display_name": "Python 3",
   "language": "python",
   "name": "python3"
  },
  "language_info": {
   "codemirror_mode": {
    "name": "ipython",
    "version": 3
   },
   "file_extension": ".py",
   "mimetype": "text/x-python",
   "name": "python",
   "nbconvert_exporter": "python",
   "pygments_lexer": "ipython3",
   "version": "3.8.3"
  }
 },
 "nbformat": 4,
 "nbformat_minor": 4
}
