{
 "cells": [
  {
   "cell_type": "code",
   "execution_count": null,
   "metadata": {},
   "outputs": [],
   "source": [
    "print(\"enter number1 \")\n",
    "a=int(input())\n",
    "print(\"enter number 2\")\n",
    "b=int(input())\n",
    "print( \"enter number 3\")\n",
    "c=int(input())\n",
    "if b+c>a and a+c>b and b+a>c:\n",
    "    print(\"you can creat triangle\")\n",
    "else:\n",
    "    print(\"you can’t creat triangle\")"
   ]
  }
 ],
 "metadata": {
  "kernelspec": {
   "display_name": "Python 3",
   "language": "python",
   "name": "python3"
  },
  "language_info": {
   "codemirror_mode": {
    "name": "ipython",
    "version": 3
   },
   "file_extension": ".py",
   "mimetype": "text/x-python",
   "name": "python",
   "nbconvert_exporter": "python",
   "pygments_lexer": "ipython3",
   "version": "3.8.3"
  }
 },
 "nbformat": 4,
 "nbformat_minor": 4
}
