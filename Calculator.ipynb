{
 "cells": [
  {
   "cell_type": "code",
   "execution_count": null,
   "metadata": {},
   "outputs": [],
   "source": [
    "import math\n",
    "op=input('please enter operator:')\n",
    "if op=='cos' or  op==\"sin\" or op=='sqrt' or op=='tan' or op=='cot'or  op=='fac' or op=='%':\n",
    "    a=float(input(\"enter number:\"))\n",
    "else:    \n",
    "\n",
    "    a = float(input('please enter number1:'))\n",
    "    b = float(input('please enter number2:'))\n",
    "\n",
    "if op==\"+\":\n",
    "    result= a+b\n",
    "elif op==\"*\":\n",
    "    result= a*b\n",
    "elif   op==\"-\":\n",
    "    result= a-b\n",
    "elif op== '/':\n",
    "    if b==0:\n",
    "        result='Error'\n",
    "    else:\n",
    "        result=a/b  \n",
    "elif op=='%':\n",
    "    result =a/100\n",
    "elif op==\"^\":\n",
    "    result=a**b                  \n",
    "elif op=='log':\n",
    "    result=math.log(a,b)\n",
    "elif op==\"sqrt\":\n",
    "    result = math.sqrt(a) \n",
    "elif op=='sin':\n",
    "    c =(a / 180) * math.pi\n",
    "    result = math.sin(c)\n",
    "elif op=='cot':\n",
    "    c =(a/180)*math.pi\n",
    "    result = 1/math.tan(c)    \n",
    "elif op=='cos':\n",
    "    result = math.cos(a)\n",
    "elif op=='tan':\n",
    "    c =(a/180)*math.pi\n",
    "    result = math.tan(c) \n",
    "elif op=='fac':\n",
    "    result=math.factorial(a)       \n",
    "\n",
    "print(result)"
   ]
  }
 ],
 "metadata": {
  "kernelspec": {
   "display_name": "Python 3",
   "language": "python",
   "name": "python3"
  },
  "language_info": {
   "codemirror_mode": {
    "name": "ipython",
    "version": 3
   },
   "file_extension": ".py",
   "mimetype": "text/x-python",
   "name": "python",
   "nbconvert_exporter": "python",
   "pygments_lexer": "ipython3",
   "version": "3.8.3"
  }
 },
 "nbformat": 4,
 "nbformat_minor": 4
}
